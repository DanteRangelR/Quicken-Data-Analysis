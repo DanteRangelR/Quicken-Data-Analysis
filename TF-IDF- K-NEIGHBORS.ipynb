{
 "cells": [
  {
   "cell_type": "code",
   "execution_count": 19,
   "metadata": {},
   "outputs": [
    {
     "name": "stderr",
     "output_type": "stream",
     "text": [
      "[nltk_data] Downloading package stopwords to\n",
      "[nltk_data]     /Users/danterangel/nltk_data...\n",
      "[nltk_data]   Package stopwords is already up-to-date!\n"
     ]
    },
    {
     "data": {
      "text/plain": [
       "True"
      ]
     },
     "execution_count": 19,
     "metadata": {},
     "output_type": "execute_result"
    }
   ],
   "source": [
    "import pandas as pd\n",
    "import numpy as np\n",
    "import time\n",
    "import re\n",
    "import nltk\n",
    "from nltk.corpus import stopwords\n",
    "from sklearn.feature_extraction.text import TfidfVectorizer\n",
    "from sklearn.neighbors import NearestNeighbors\n",
    "from fuzzywuzzy import fuzz\n",
    "from fuzzywuzzy import process\n",
    "\n",
    "nltk.download('stopwords')"
   ]
  },
  {
   "cell_type": "code",
   "execution_count": 20,
   "metadata": {},
   "outputs": [],
   "source": [
    "\n",
    "str_replaces_list = [\n",
    "    ['*',' '],\n",
    "    ['.',' '],\n",
    "    ['-',' '],\n",
    "    ['-',' '],\n",
    "    ['01 ',''],\n",
    "    ['02 ',''],\n",
    "    ['03 ',''],\n",
    "    ['04 ',''],\n",
    "    ['05 ',''],\n",
    "    ['06 ',''],\n",
    "    ['07 ',''],\n",
    "    ['08 ',''],\n",
    "    ['09 ',''],\n",
    "    ['/', ' '],\n",
    "    ['AMEX','American Express'],\n",
    "    ['IRS','Internal Revenue Service'],\n",
    "    ['SYNCB','SYNCHRONY'],\n",
    "    ['JPMCB - CARD SERVICE','JPMCB - CARD'],\n",
    "    ['JPMCB','JPMChase Bank'],\n",
    "    ['JPM CB','JPMChase Bank'],\n",
    "    ['5TH 3RD','Fifth third'],\n",
    "    ['5/3','Fifth third'],\n",
    "    ['1NEVADACU','One Nevada'],\n",
    "    ['CBNA','Citibank, N.A.'],\n",
    "    ['TOYOTA MOTOR CREDIT','Toyota Financial Services'],\n",
    "    ['ADVANT','Advantage'],\n",
    "    ['CAPONE','Capital one'],\n",
    "    ['CRED','Credit'],\n",
    "    ['Ins ', 'Insurance '],\n",
    "    ['P & C', 'Property & Casualty'],\n",
    "    ['P&C', 'Property & Casualty'],\n",
    "    ['P& C', 'Property & Casualty'],\n",
    "    ['PROP & CAS', 'PROPERTY & CASUALTY'],\n",
    "    ['INS ', 'INSURANCE '],\n",
    "    ['CORP ', 'CORPORATE '],\n",
    "    ['Ins. Co.', 'Insurance Companty'],\n",
    "    ['Cas.', 'Casuality'],\n",
    "    ['CAS UALTY', 'CASUALTY'],\n",
    "    ['CAS CO', 'CASUALITY COMPANY'],\n",
    "    ['COUNTRY INS', 'COMPANY INSURANCE'],\n",
    "    ['FBSD','1st Financial Bank'],\n",
    "    ['121FCU','Financial Credit Union'],\n",
    "    ['121 FCU','Financial Credit Union'],\n",
    "    ['1st Comm CU','first Community credit union'],\n",
    "    ['1ST COMM','first Community'],\n",
    "    ['1ST FEDERAL','first federal'],\n",
    "    ['1ST FINANCIAL BANK ','first financial bank']\n",
    "]\n",
    "#str_replaces_list = []\n",
    "b_words = [\n",
    "    'insurance',\n",
    "    'insurances',\n",
    "    'bank',\n",
    "    'counties',\n",
    "    'credit',\n",
    "    'finance',\n",
    "    'financial',\n",
    "    'services',\n",
    "    'service',\n",
    "    'credit',\n",
    "    'service',\n",
    "    'corporate',\n",
    "    'company',\n",
    "    'casuality',\n",
    "    'exchange',\n",
    "    'association',\n",
    "    'cooperative',\n",
    "    'property'\n",
    "]\n",
    "\n",
    "b_words = stopwords.words('english') + b_words"
   ]
  },
  {
   "cell_type": "code",
   "execution_count": 21,
   "metadata": {},
   "outputs": [],
   "source": [
    "def str_replace(string, str_replaces_list):\n",
    "    for i in str_replaces_list:\n",
    "        string = string.replace(i[0], i[1])\n",
    "    return string.lower()"
   ]
  },
  {
   "cell_type": "code",
   "execution_count": 22,
   "metadata": {},
   "outputs": [],
   "source": [
    "def ngrams(string, n=12):\n",
    "    string = string.encode(\"ascii\", errors=\"ignore\").decode() #remove non ascii chars\n",
    "    string = string.lower() #make lower case\n",
    "    string = str_replace(string,str_replaces_list)\n",
    "    chars_to_remove = [\")\",\"(\",\".\",\"|\",\"[\",\"]\",\"{\",\"}\",\"'\"]\n",
    "    rx = '[' + re.escape(''.join(chars_to_remove)) + ']'\n",
    "    string = re.sub(rx, '', string) #remove the list of chars defined above\n",
    "    string = string.title() # normalise case - capital at start of each word\n",
    "    string = re.sub(' +',' ',string).strip() # get rid of multiple spaces and replace with a single space\n",
    "    string = ' '+ string +' ' # pad names for ngrams...\n",
    "    string = re.sub(r'[,-./]|\\sBD',r'', string)\n",
    "    ngrams = zip(*[string[i:] for i in range(n)])\n",
    "    return [''.join(ngram) for ngram in ngrams]"
   ]
  },
  {
   "cell_type": "code",
   "execution_count": null,
   "metadata": {},
   "outputs": [],
   "source": []
  },
  {
   "cell_type": "code",
   "execution_count": 23,
   "metadata": {},
   "outputs": [],
   "source": [
    "def train_vectorize(org_name_clean, unique_org,analyzer= 'char_wb'):\n",
    "    t1 = time.time()\n",
    "    print('=====================================================Vecorizing the data - this could take a few minutes for large datasets... =====================================================')\n",
    "    vectorizer = TfidfVectorizer(min_df=1, analyzer=analyzer, stop_words=b_words)#, lowercase=False)\n",
    "    tfidf = vectorizer.fit_transform(org_name_clean)\n",
    "    t = time.time()-t1\n",
    "    print(\"=====================  COMPLETED IN:\", t)\n",
    "    print('=====================  Vecorizing completed...')\n",
    "    nbrs = NearestNeighbors(n_neighbors=NEIGHBORS, n_jobs=-1).fit(tfidf)\n",
    "    query_tf_idf = vectorizer.transform(unique_org)\n",
    "    distances, indices = nbrs.kneighbors(query_tf_idf)\n",
    "    return distances, indices"
   ]
  },
  {
   "cell_type": "code",
   "execution_count": 24,
   "metadata": {},
   "outputs": [],
   "source": [
    "def find_matches(matches,indices, distances, org_name_clean, unique_org, invert= True):\n",
    "    \n",
    "    t1 = time.time()\n",
    "    print('=====================  finding matches...')\n",
    "    for i,j in enumerate(indices):\n",
    "        for k in range(0,len(j)):\n",
    "            str1 = org_name_clean[j[k]].lower()\n",
    "            str2 = unique_org[i].lower()\n",
    "            similarity = fuzz.ratio(str1,str2)\n",
    "            similarity_token_sort_ratio = fuzz.token_sort_ratio(str1,str2)\n",
    "            if similarity > FILTER_SIMILARITY or similarity_token_sort_ratio > FILTER_SIMILARITY:\n",
    "                if invert == True:\n",
    "                    arcus_name = org_name_clean[j[k]]\n",
    "                    quicken_name = unique_org[i]\n",
    "                else:                    \n",
    "                    arcus_name = unique_org[i]\n",
    "                    quicken_name = org_name_clean[j[k]]\n",
    "                temp = [round(distances[i][k],2), arcus_name , quicken_name, similarity, similarity_token_sort_ratio]\n",
    "                matches.append(temp)\n",
    "\n",
    "    t = time.time() - t1\n",
    "    print(\"=====================  COMPLETED IN:\", t)\n",
    "    return matches"
   ]
  },
  {
   "cell_type": "markdown",
   "metadata": {},
   "source": [
    "## Files Names"
   ]
  },
  {
   "cell_type": "code",
   "execution_count": 25,
   "metadata": {},
   "outputs": [],
   "source": [
    "file = \"data_all.xlsx\"\n",
    "file_quicken = 'full_data_quicken.xlsx'\n",
    "FILTER_SIMILARITY = 55\n",
    "NEIGHBORS = 40\n",
    "ANALIZERS = [\n",
    "    'char_wb',\n",
    "    'char',\n",
    "    'word',\n",
    "    ngrams\n",
    "]"
   ]
  },
  {
   "cell_type": "markdown",
   "metadata": {},
   "source": [
    "## Get the Quicken Dataset"
   ]
  },
  {
   "cell_type": "code",
   "execution_count": 26,
   "metadata": {},
   "outputs": [
    {
     "name": "stdout",
     "output_type": "stream",
     "text": [
      "(345610, 1) dataset completo\n",
      "(21109, 1) dataset con datos unicos\n"
     ]
    }
   ],
   "source": [
    "dataset = pd.read_excel(file_quicken, usecols=[\"Payable To\"])\n",
    "print(dataset.shape, 'dataset completo')\n",
    "dataset = pd.DataFrame({'name': dataset['Payable To'].unique()})\n",
    "dataset = dataset\n",
    "print(dataset.shape, 'dataset con datos unicos')"
   ]
  },
  {
   "cell_type": "code",
   "execution_count": 27,
   "metadata": {},
   "outputs": [
    {
     "data": {
      "text/html": [
       "<div>\n",
       "<style scoped>\n",
       "    .dataframe tbody tr th:only-of-type {\n",
       "        vertical-align: middle;\n",
       "    }\n",
       "\n",
       "    .dataframe tbody tr th {\n",
       "        vertical-align: top;\n",
       "    }\n",
       "\n",
       "    .dataframe thead th {\n",
       "        text-align: right;\n",
       "    }\n",
       "</style>\n",
       "<table border=\"1\" class=\"dataframe\">\n",
       "  <thead>\n",
       "    <tr style=\"text-align: right;\">\n",
       "      <th></th>\n",
       "      <th>name</th>\n",
       "    </tr>\n",
       "  </thead>\n",
       "  <tbody>\n",
       "    <tr>\n",
       "      <th>0</th>\n",
       "      <td>SYNCB/PPC</td>\n",
       "    </tr>\n",
       "    <tr>\n",
       "      <th>1</th>\n",
       "      <td>CapitalOne</td>\n",
       "    </tr>\n",
       "    <tr>\n",
       "      <th>2</th>\n",
       "      <td>SYNCB/LOW</td>\n",
       "    </tr>\n",
       "    <tr>\n",
       "      <th>3</th>\n",
       "      <td>Goldenwest FCU</td>\n",
       "    </tr>\n",
       "    <tr>\n",
       "      <th>4</th>\n",
       "      <td>DISCOVER FIN SVCS LLC</td>\n",
       "    </tr>\n",
       "  </tbody>\n",
       "</table>\n",
       "</div>"
      ],
      "text/plain": [
       "                    name\n",
       "0              SYNCB/PPC\n",
       "1             CapitalOne\n",
       "2              SYNCB/LOW\n",
       "3         Goldenwest FCU\n",
       "4  DISCOVER FIN SVCS LLC"
      ]
     },
     "execution_count": 27,
     "metadata": {},
     "output_type": "execute_result"
    }
   ],
   "source": [
    "dataset.head(5)"
   ]
  },
  {
   "cell_type": "markdown",
   "metadata": {},
   "source": [
    "## Get Arcus Dataset"
   ]
  },
  {
   "cell_type": "code",
   "execution_count": 28,
   "metadata": {},
   "outputs": [
    {
     "name": "stdout",
     "output_type": "stream",
     "text": [
      "(16398, 2)  dataset arcus completo\n"
     ]
    }
   ],
   "source": [
    "payees = pd.read_excel(file,sheet_name='USA-Full List')\n",
    "payees.dropna(subset=['Name'], inplace=True)\n",
    "payees['name'] = payees['Name']\n",
    "payees.drop('Name', axis='columns', inplace=True)\n",
    "print(payees.shape, \" dataset arcus completo\")"
   ]
  },
  {
   "cell_type": "code",
   "execution_count": 29,
   "metadata": {},
   "outputs": [
    {
     "data": {
      "text/html": [
       "<div>\n",
       "<style scoped>\n",
       "    .dataframe tbody tr th:only-of-type {\n",
       "        vertical-align: middle;\n",
       "    }\n",
       "\n",
       "    .dataframe tbody tr th {\n",
       "        vertical-align: top;\n",
       "    }\n",
       "\n",
       "    .dataframe thead th {\n",
       "        text-align: right;\n",
       "    }\n",
       "</style>\n",
       "<table border=\"1\" class=\"dataframe\">\n",
       "  <thead>\n",
       "    <tr style=\"text-align: right;\">\n",
       "      <th></th>\n",
       "      <th>Category</th>\n",
       "      <th>name</th>\n",
       "    </tr>\n",
       "  </thead>\n",
       "  <tbody>\n",
       "    <tr>\n",
       "      <th>0</th>\n",
       "      <td>Airline</td>\n",
       "      <td>American Airlines</td>\n",
       "    </tr>\n",
       "    <tr>\n",
       "      <th>1</th>\n",
       "      <td>Airline</td>\n",
       "      <td>United Travel Card</td>\n",
       "    </tr>\n",
       "    <tr>\n",
       "      <th>2</th>\n",
       "      <td>Auto Finance</td>\n",
       "      <td>Ally Financial, Inc.</td>\n",
       "    </tr>\n",
       "    <tr>\n",
       "      <th>3</th>\n",
       "      <td>Auto Finance</td>\n",
       "      <td>American Honda Finance Corp</td>\n",
       "    </tr>\n",
       "    <tr>\n",
       "      <th>4</th>\n",
       "      <td>Auto Finance</td>\n",
       "      <td>BMW Financial Services</td>\n",
       "    </tr>\n",
       "  </tbody>\n",
       "</table>\n",
       "</div>"
      ],
      "text/plain": [
       "       Category                         name\n",
       "0       Airline            American Airlines\n",
       "1       Airline           United Travel Card\n",
       "2  Auto Finance         Ally Financial, Inc.\n",
       "3  Auto Finance  American Honda Finance Corp\n",
       "4  Auto Finance       BMW Financial Services"
      ]
     },
     "execution_count": 29,
     "metadata": {},
     "output_type": "execute_result"
    }
   ],
   "source": [
    "payees.head(5)"
   ]
  },
  {
   "cell_type": "markdown",
   "metadata": {},
   "source": [
    "## Copy Quicken Dataset and replace with our manual filter data and lower each string"
   ]
  },
  {
   "cell_type": "code",
   "execution_count": 30,
   "metadata": {},
   "outputs": [],
   "source": [
    "dataset_client = dataset.copy()\n",
    "dataset_client.name = dataset_client.apply(lambda row : str_replace(row['name'], str_replaces_list), axis = 1)\n",
    "dataset_client = dataset_client.name"
   ]
  },
  {
   "cell_type": "markdown",
   "metadata": {},
   "source": [
    "## Copy Arcus Dataset and replace with our manual filter data and lower each string"
   ]
  },
  {
   "cell_type": "code",
   "execution_count": 31,
   "metadata": {},
   "outputs": [],
   "source": [
    "dataset_payees = payees.copy()\n",
    "dataset_payees.name = dataset_payees.apply(lambda row : str_replace(row['name'], str_replaces_list), axis = 1)\n",
    "dataset_payees = dataset_payees.name"
   ]
  },
  {
   "cell_type": "markdown",
   "metadata": {},
   "source": [
    "### Match names Arcus vs Quicken with KNeighbors"
   ]
  },
  {
   "cell_type": "code",
   "execution_count": 32,
   "metadata": {},
   "outputs": [],
   "source": [
    "clean_org_names = dataset_payees\n",
    "org_name_clean = payees.name\n",
    "matches = []"
   ]
  },
  {
   "cell_type": "code",
   "execution_count": 33,
   "metadata": {},
   "outputs": [
    {
     "name": "stdout",
     "output_type": "stream",
     "text": [
      "=====================  Match names Arcus vs Quicken with KNeighbors\n",
      "=====================================================Vecorizing the data - this could take a few minutes for large datasets... =====================================================\n",
      "=====================  COMPLETED IN: 0.3282036781311035\n",
      "=====================  Vecorizing completed...\n",
      "=====================  finding matches...\n",
      "=====================  COMPLETED IN: 25.915809869766235\n",
      "=====================================================Vecorizing the data - this could take a few minutes for large datasets... =====================================================\n",
      "=====================  COMPLETED IN: 0.15825390815734863\n",
      "=====================  Vecorizing completed...\n",
      "=====================  finding matches...\n",
      "=====================  COMPLETED IN: 29.937224864959717\n",
      "=====================================================Vecorizing the data - this could take a few minutes for large datasets... =====================================================\n",
      "=====================  COMPLETED IN: 0.14833307266235352\n",
      "=====================  Vecorizing completed...\n",
      "=====================  finding matches...\n",
      "=====================  COMPLETED IN: 26.449501752853394\n",
      "=====================================================Vecorizing the data - this could take a few minutes for large datasets... =====================================================\n",
      "=====================  COMPLETED IN: 0.9440338611602783\n",
      "=====================  Vecorizing completed...\n",
      "=====================  finding matches...\n",
      "=====================  COMPLETED IN: 19.044023990631104\n",
      "=====================  COMPLETED IN: 166.4850308895111\n"
     ]
    }
   ],
   "source": [
    "print(\"=====================  Match names Arcus vs Quicken with KNeighbors\")\n",
    "t1 = time.time()\n",
    "unique_org = dataset_client # set used for increased performance\n",
    "for i in ANALIZERS:\n",
    "    distances, indices = train_vectorize(org_name_clean, unique_org, analyzer=i)\n",
    "    unique_org = dataset.name\n",
    "    matches = matches + find_matches(matches,indices, distances, org_name_clean, unique_org)\n",
    "t = time.time() - t1\n",
    "print(\"=====================  COMPLETED IN:\", t)\n"
   ]
  },
  {
   "cell_type": "code",
   "execution_count": 34,
   "metadata": {},
   "outputs": [
    {
     "name": "stdout",
     "output_type": "stream",
     "text": [
      "Building data frame...\n",
      "Done\n"
     ]
    }
   ],
   "source": [
    "print('Building data frame...')  \n",
    "matches_df = pd.DataFrame(matches, columns=['match confidence(knn)','Arcus name','Quicken name', 'similarity', 'similarity_token_sort_ratio'])\n",
    "print('Done')"
   ]
  },
  {
   "cell_type": "code",
   "execution_count": 35,
   "metadata": {},
   "outputs": [
    {
     "data": {
      "text/html": [
       "<div>\n",
       "<style scoped>\n",
       "    .dataframe tbody tr th:only-of-type {\n",
       "        vertical-align: middle;\n",
       "    }\n",
       "\n",
       "    .dataframe tbody tr th {\n",
       "        vertical-align: top;\n",
       "    }\n",
       "\n",
       "    .dataframe thead th {\n",
       "        text-align: right;\n",
       "    }\n",
       "</style>\n",
       "<table border=\"1\" class=\"dataframe\">\n",
       "  <thead>\n",
       "    <tr style=\"text-align: right;\">\n",
       "      <th></th>\n",
       "      <th>match confidence(knn)</th>\n",
       "      <th>Arcus name</th>\n",
       "      <th>Quicken name</th>\n",
       "      <th>similarity</th>\n",
       "      <th>similarity_token_sort_ratio</th>\n",
       "    </tr>\n",
       "  </thead>\n",
       "  <tbody>\n",
       "    <tr>\n",
       "      <th>4817298</th>\n",
       "      <td>0.59</td>\n",
       "      <td>Sanitary Garbage Company</td>\n",
       "      <td>Grange Property &amp; Casualty Company</td>\n",
       "      <td>52</td>\n",
       "      <td>57</td>\n",
       "    </tr>\n",
       "    <tr>\n",
       "      <th>1928347</th>\n",
       "      <td>0.28</td>\n",
       "      <td>Rogue Federal Credit Union</td>\n",
       "      <td>Energy One Federal Credit Union</td>\n",
       "      <td>84</td>\n",
       "      <td>81</td>\n",
       "    </tr>\n",
       "    <tr>\n",
       "      <th>152549</th>\n",
       "      <td>0.41</td>\n",
       "      <td>Family Security Credit Union</td>\n",
       "      <td>University of Kentucky Federal Credit Union</td>\n",
       "      <td>54</td>\n",
       "      <td>56</td>\n",
       "    </tr>\n",
       "    <tr>\n",
       "      <th>4814016</th>\n",
       "      <td>0.52</td>\n",
       "      <td>Polam FCU</td>\n",
       "      <td>CAP COMM FCU</td>\n",
       "      <td>67</td>\n",
       "      <td>38</td>\n",
       "    </tr>\n",
       "    <tr>\n",
       "      <th>3386725</th>\n",
       "      <td>0.52</td>\n",
       "      <td>Lennox Employees Credit Union</td>\n",
       "      <td>PUBLIX EMPLOYEES FED C</td>\n",
       "      <td>63</td>\n",
       "      <td>63</td>\n",
       "    </tr>\n",
       "    <tr>\n",
       "      <th>816780</th>\n",
       "      <td>0.37</td>\n",
       "      <td>Coastal Federal Credit Union</td>\n",
       "      <td>HANSCOM FEDERAL CRED</td>\n",
       "      <td>62</td>\n",
       "      <td>62</td>\n",
       "    </tr>\n",
       "    <tr>\n",
       "      <th>4538637</th>\n",
       "      <td>0.40</td>\n",
       "      <td>Clermont County Treasurer</td>\n",
       "      <td>Outagamie County Treasurer</td>\n",
       "      <td>75</td>\n",
       "      <td>71</td>\n",
       "    </tr>\n",
       "    <tr>\n",
       "      <th>70321</th>\n",
       "      <td>0.46</td>\n",
       "      <td>Charter Township of Canton</td>\n",
       "      <td>CALN TOWNSHIP</td>\n",
       "      <td>56</td>\n",
       "      <td>62</td>\n",
       "    </tr>\n",
       "    <tr>\n",
       "      <th>2360117</th>\n",
       "      <td>1.21</td>\n",
       "      <td>First Financial Federal Credit Union</td>\n",
       "      <td>TOPLINE FEDERAL CRD UN</td>\n",
       "      <td>62</td>\n",
       "      <td>59</td>\n",
       "    </tr>\n",
       "    <tr>\n",
       "      <th>3927287</th>\n",
       "      <td>0.36</td>\n",
       "      <td>Erie County Water Authority</td>\n",
       "      <td>WRIGHT COUNTY AUDITOR/ TREASURER</td>\n",
       "      <td>58</td>\n",
       "      <td>66</td>\n",
       "    </tr>\n",
       "    <tr>\n",
       "      <th>4367329</th>\n",
       "      <td>0.35</td>\n",
       "      <td>Broward County Tax Collector</td>\n",
       "      <td>GRAY TOWN-TAX COLLECTOR</td>\n",
       "      <td>71</td>\n",
       "      <td>59</td>\n",
       "    </tr>\n",
       "    <tr>\n",
       "      <th>4052860</th>\n",
       "      <td>0.41</td>\n",
       "      <td>CHABOT PARK HIGHLANDS</td>\n",
       "      <td>HIGHLAND PARK CITY</td>\n",
       "      <td>46</td>\n",
       "      <td>82</td>\n",
       "    </tr>\n",
       "    <tr>\n",
       "      <th>2733989</th>\n",
       "      <td>0.44</td>\n",
       "      <td>REGIONAL FCU</td>\n",
       "      <td>GARDINER FCU</td>\n",
       "      <td>58</td>\n",
       "      <td>58</td>\n",
       "    </tr>\n",
       "    <tr>\n",
       "      <th>3666707</th>\n",
       "      <td>1.16</td>\n",
       "      <td>Pacific Sunwear</td>\n",
       "      <td>PACIFIC SPECIALTY</td>\n",
       "      <td>69</td>\n",
       "      <td>69</td>\n",
       "    </tr>\n",
       "    <tr>\n",
       "      <th>4168979</th>\n",
       "      <td>0.35</td>\n",
       "      <td>Celina Insurance Group</td>\n",
       "      <td>MIC General Insurance Corp</td>\n",
       "      <td>71</td>\n",
       "      <td>58</td>\n",
       "    </tr>\n",
       "    <tr>\n",
       "      <th>1543434</th>\n",
       "      <td>0.43</td>\n",
       "      <td>Realtors Federal Credit Union</td>\n",
       "      <td>STARK FEDERAL CREDIT</td>\n",
       "      <td>69</td>\n",
       "      <td>69</td>\n",
       "    </tr>\n",
       "    <tr>\n",
       "      <th>1046755</th>\n",
       "      <td>0.41</td>\n",
       "      <td>Safe Harbor insurance Company</td>\n",
       "      <td>Farmers insurance company of Washington</td>\n",
       "      <td>65</td>\n",
       "      <td>68</td>\n",
       "    </tr>\n",
       "    <tr>\n",
       "      <th>906660</th>\n",
       "      <td>0.41</td>\n",
       "      <td>CUNA Mutual Insurance Society</td>\n",
       "      <td>Shelter Mutual Insurance Co</td>\n",
       "      <td>68</td>\n",
       "      <td>79</td>\n",
       "    </tr>\n",
       "    <tr>\n",
       "      <th>3979223</th>\n",
       "      <td>0.43</td>\n",
       "      <td>United World Life Insurance Co</td>\n",
       "      <td>UNITED COLLECTION BURE</td>\n",
       "      <td>62</td>\n",
       "      <td>50</td>\n",
       "    </tr>\n",
       "    <tr>\n",
       "      <th>2018879</th>\n",
       "      <td>0.35</td>\n",
       "      <td>Our Credit Union Loan</td>\n",
       "      <td>LOCO CREDIT UNION</td>\n",
       "      <td>74</td>\n",
       "      <td>84</td>\n",
       "    </tr>\n",
       "  </tbody>\n",
       "</table>\n",
       "</div>"
      ],
      "text/plain": [
       "         match confidence(knn)                            Arcus name  \\\n",
       "4817298                   0.59              Sanitary Garbage Company   \n",
       "1928347                   0.28            Rogue Federal Credit Union   \n",
       "152549                    0.41          Family Security Credit Union   \n",
       "4814016                   0.52                             Polam FCU   \n",
       "3386725                   0.52         Lennox Employees Credit Union   \n",
       "816780                    0.37          Coastal Federal Credit Union   \n",
       "4538637                   0.40             Clermont County Treasurer   \n",
       "70321                     0.46            Charter Township of Canton   \n",
       "2360117                   1.21  First Financial Federal Credit Union   \n",
       "3927287                   0.36           Erie County Water Authority   \n",
       "4367329                   0.35          Broward County Tax Collector   \n",
       "4052860                   0.41                 CHABOT PARK HIGHLANDS   \n",
       "2733989                   0.44                          REGIONAL FCU   \n",
       "3666707                   1.16                       Pacific Sunwear   \n",
       "4168979                   0.35                Celina Insurance Group   \n",
       "1543434                   0.43         Realtors Federal Credit Union   \n",
       "1046755                   0.41         Safe Harbor insurance Company   \n",
       "906660                    0.41         CUNA Mutual Insurance Society   \n",
       "3979223                   0.43        United World Life Insurance Co   \n",
       "2018879                   0.35                 Our Credit Union Loan   \n",
       "\n",
       "                                        Quicken name  similarity  \\\n",
       "4817298           Grange Property & Casualty Company          52   \n",
       "1928347              Energy One Federal Credit Union          84   \n",
       "152549   University of Kentucky Federal Credit Union          54   \n",
       "4814016                                 CAP COMM FCU          67   \n",
       "3386725                       PUBLIX EMPLOYEES FED C          63   \n",
       "816780                          HANSCOM FEDERAL CRED          62   \n",
       "4538637                   Outagamie County Treasurer          75   \n",
       "70321                                  CALN TOWNSHIP          56   \n",
       "2360117                       TOPLINE FEDERAL CRD UN          62   \n",
       "3927287             WRIGHT COUNTY AUDITOR/ TREASURER          58   \n",
       "4367329                      GRAY TOWN-TAX COLLECTOR          71   \n",
       "4052860                           HIGHLAND PARK CITY          46   \n",
       "2733989                                 GARDINER FCU          58   \n",
       "3666707                            PACIFIC SPECIALTY          69   \n",
       "4168979                   MIC General Insurance Corp          71   \n",
       "1543434                         STARK FEDERAL CREDIT          69   \n",
       "1046755      Farmers insurance company of Washington          65   \n",
       "906660                   Shelter Mutual Insurance Co          68   \n",
       "3979223                       UNITED COLLECTION BURE          62   \n",
       "2018879                            LOCO CREDIT UNION          74   \n",
       "\n",
       "         similarity_token_sort_ratio  \n",
       "4817298                           57  \n",
       "1928347                           81  \n",
       "152549                            56  \n",
       "4814016                           38  \n",
       "3386725                           63  \n",
       "816780                            62  \n",
       "4538637                           71  \n",
       "70321                             62  \n",
       "2360117                           59  \n",
       "3927287                           66  \n",
       "4367329                           59  \n",
       "4052860                           82  \n",
       "2733989                           58  \n",
       "3666707                           69  \n",
       "4168979                           58  \n",
       "1543434                           69  \n",
       "1046755                           68  \n",
       "906660                            79  \n",
       "3979223                           50  \n",
       "2018879                           84  "
      ]
     },
     "execution_count": 35,
     "metadata": {},
     "output_type": "execute_result"
    }
   ],
   "source": [
    "matches_df.sample(20)"
   ]
  },
  {
   "cell_type": "markdown",
   "metadata": {},
   "source": [
    "### Match names Quicken vs Arcus with KNeighbors"
   ]
  },
  {
   "cell_type": "code",
   "execution_count": 36,
   "metadata": {},
   "outputs": [],
   "source": [
    "clean_org_names = dataset_client\n",
    "org_name_clean = dataset.name"
   ]
  },
  {
   "cell_type": "code",
   "execution_count": null,
   "metadata": {},
   "outputs": [],
   "source": []
  },
  {
   "cell_type": "code",
   "execution_count": null,
   "metadata": {},
   "outputs": [
    {
     "name": "stdout",
     "output_type": "stream",
     "text": [
      "=====================  Match names Arcus vs Quicken with KNeighbors\n",
      "=====================================================Vecorizing the data - this could take a few minutes for large datasets... =====================================================\n",
      "=====================  COMPLETED IN: 0.35786008834838867\n",
      "=====================  Vecorizing completed...\n"
     ]
    }
   ],
   "source": [
    "print(\"=====================  Match names Arcus vs Quicken with KNeighbors\")\n",
    "t1 = time.time()\n",
    "unique_org = dataset_payees\n",
    "for i in ANALIZERS:\n",
    "    distances, indices = train_vectorize(org_name_clean, unique_org, analyzer=i)\n",
    "    unique_org = payees.name\n",
    "    matches = matches + find_matches(matches,indices, distances, org_name_clean, unique_org, invert= False)\n",
    "print(\"=====================  COMPLETED IN:\", t)"
   ]
  },
  {
   "cell_type": "code",
   "execution_count": null,
   "metadata": {},
   "outputs": [],
   "source": [
    "print('Building data frame...')  \n",
    "matches_df = pd.DataFrame(matches, columns=['match confidence(knn)','Arcus name','Quicken name', 'similarity', 'similarity_token_sort_ratio'])\n",
    "print('Done')"
   ]
  },
  {
   "cell_type": "code",
   "execution_count": null,
   "metadata": {},
   "outputs": [],
   "source": [
    "matches_df.sample(20, random_state=42)"
   ]
  },
  {
   "cell_type": "markdown",
   "metadata": {},
   "source": [
    "### Match names Quicken vs Arcus with KNeighbors"
   ]
  },
  {
   "cell_type": "code",
   "execution_count": null,
   "metadata": {},
   "outputs": [],
   "source": [
    "matches_df = matches_df.drop_duplicates(subset=['Arcus name', 'Quicken name'])\n",
    "matches_df.shape"
   ]
  },
  {
   "cell_type": "code",
   "execution_count": null,
   "metadata": {},
   "outputs": [],
   "source": [
    "matches_df[matches_df['similarity_token_sort_ratio'] > 65]"
   ]
  },
  {
   "cell_type": "code",
   "execution_count": null,
   "metadata": {},
   "outputs": [],
   "source": [
    "capital_one =  matches_df[matches_df['Quicken name'] == 'CAPITAL ONE BANK USA N']\n",
    "capital_one[capital_one['similarity_token_sort_ratio'] > 90]\n",
    "capital_one.sort_values('similarity_token_sort_ratio', ascending=False)"
   ]
  },
  {
   "cell_type": "code",
   "execution_count": null,
   "metadata": {},
   "outputs": [],
   "source": [
    "capital_one = matches_df[matches_df['Quicken name'] == 'CAPITAL ONE']\n",
    "capital_one[capital_one['similarity_token_sort_ratio'] > 85]\n",
    "capital_one.sort_values('similarity_token_sort_ratio', ascending=False).drop_duplicates(subset=['Arcus name', 'Quicken name'])"
   ]
  },
  {
   "cell_type": "code",
   "execution_count": null,
   "metadata": {},
   "outputs": [],
   "source": [
    "matches_df[matches_df['Quicken name'] == 'BARCLAYS BANK DELAWA']"
   ]
  },
  {
   "cell_type": "code",
   "execution_count": null,
   "metadata": {},
   "outputs": [],
   "source": [
    "matches_df[matches_df['Quicken name'] == 'AMERICAN HONDA FINANCE']"
   ]
  },
  {
   "cell_type": "code",
   "execution_count": null,
   "metadata": {},
   "outputs": [],
   "source": [
    "matches_df[matches_df['Quicken name'] == 'BANK OF AMER']"
   ]
  },
  {
   "cell_type": "code",
   "execution_count": null,
   "metadata": {},
   "outputs": [],
   "source": [
    "matches_df[matches_df['Quicken name'] == 'Bank of America']"
   ]
  },
  {
   "cell_type": "code",
   "execution_count": null,
   "metadata": {},
   "outputs": [],
   "source": [
    "bank = matches_df[matches_df['Quicken name'] == 'BANK OF AMER']\n",
    "bank.sort_values(by=['similarity_token_sort_ratio'], ascending=False)"
   ]
  },
  {
   "cell_type": "code",
   "execution_count": null,
   "metadata": {},
   "outputs": [],
   "source": [
    "amica_mutual = matches_df[matches_df['Arcus name'] == 'Amica Mutual Insurance Company']\n",
    "amica_mutual.sort_values(by='similarity_token_sort_ratio', ascending=False)"
   ]
  },
  {
   "cell_type": "code",
   "execution_count": null,
   "metadata": {},
   "outputs": [],
   "source": [
    "matches_df[matches_df['Quicken name'] == 'Partners Federal CU']"
   ]
  },
  {
   "cell_type": "code",
   "execution_count": null,
   "metadata": {},
   "outputs": [],
   "source": [
    "len(matches_df['Quicken name'].unique())"
   ]
  },
  {
   "cell_type": "code",
   "execution_count": null,
   "metadata": {},
   "outputs": [],
   "source": [
    "len(matches_df['Quicken name'])"
   ]
  },
  {
   "cell_type": "code",
   "execution_count": null,
   "metadata": {},
   "outputs": [],
   "source": [
    "len(matches_df['Arcus name'].unique())"
   ]
  },
  {
   "cell_type": "code",
   "execution_count": null,
   "metadata": {},
   "outputs": [],
   "source": [
    "len(matches_df['Arcus name'])"
   ]
  },
  {
   "cell_type": "code",
   "execution_count": null,
   "metadata": {},
   "outputs": [],
   "source": [
    "result = payees.merge(matches_df, left_on='name', right_on='Arcus name', how='inner')"
   ]
  },
  {
   "cell_type": "code",
   "execution_count": null,
   "metadata": {},
   "outputs": [],
   "source": [
    "amica_mutual = result[result['Arcus name'] == 'Amica Mutual Insurance Company']\n",
    "amica_mutual.sort_values(by='similarity_token_sort_ratio', ascending=False)"
   ]
  },
  {
   "cell_type": "code",
   "execution_count": null,
   "metadata": {},
   "outputs": [],
   "source": [
    "print(len(matches_df['Quicken name'].unique()), ' quicken unique')\n",
    "print(len(matches_df['Arcus name'].unique()), ' arcus unique')\n",
    "print(matches_df.shape, ' all data')"
   ]
  },
  {
   "cell_type": "code",
   "execution_count": null,
   "metadata": {},
   "outputs": [],
   "source": [
    "print(len(matches_df['Quicken name'].unique()), ' quicken unique')\n",
    "print(len(matches_df['Arcus name'].unique()), ' arcus unique')\n",
    "print(matches_df.shape, ' all data')"
   ]
  },
  {
   "cell_type": "code",
   "execution_count": null,
   "metadata": {},
   "outputs": [],
   "source": [
    "sim_m_75 = matches_df[matches_df['similarity'] > 60]"
   ]
  },
  {
   "cell_type": "code",
   "execution_count": null,
   "metadata": {},
   "outputs": [],
   "source": [
    "len(sim_m_75['Quicken name'].unique())"
   ]
  },
  {
   "cell_type": "code",
   "execution_count": null,
   "metadata": {},
   "outputs": [],
   "source": [
    "sim_a_75 = matches_df[(matches_df['match confidence(knn)'] < 1) & (matches_df['match confidence(knn)'] > 0 )]"
   ]
  },
  {
   "cell_type": "code",
   "execution_count": null,
   "metadata": {},
   "outputs": [],
   "source": [
    "sim_a_75.sort_values(by=['match confidence(knn)', 'similarity'], ascending=True)"
   ]
  },
  {
   "cell_type": "code",
   "execution_count": null,
   "metadata": {},
   "outputs": [],
   "source": [
    "matches_df.to_excel(\"matched_names_tf_idf.xlsx\", engine=\"xlsxwriter\", index=False)\n",
    "matches_df.to_csv(\"matched_names_tf_idf.csv\", index=False)"
   ]
  },
  {
   "cell_type": "code",
   "execution_count": null,
   "metadata": {},
   "outputs": [],
   "source": [
    "matches_df.shape"
   ]
  },
  {
   "cell_type": "code",
   "execution_count": null,
   "metadata": {},
   "outputs": [],
   "source": [
    "print(len(matches_df['Quicken name'].unique()), ' quicken unique')\n",
    "print(len(matches_df['Arcus name'].unique()), ' arcus unique')\n",
    "print(matches_df.shape, ' all data')"
   ]
  },
  {
   "cell_type": "code",
   "execution_count": null,
   "metadata": {},
   "outputs": [],
   "source": [
    "nNames = len(matches_df['Quicken name'].unique())\n",
    "print(\"Total dataset\", dataset_client.shape[0])\n",
    "print(\"Total Names found \", nNames)\n",
    "print(\"Percent : \", 100 * nNames / dataset_client.shape[0], '%')"
   ]
  }
 ],
 "metadata": {
  "kernelspec": {
   "display_name": "Python 3",
   "language": "python",
   "name": "python3"
  },
  "language_info": {
   "codemirror_mode": {
    "name": "ipython",
    "version": 3
   },
   "file_extension": ".py",
   "mimetype": "text/x-python",
   "name": "python",
   "nbconvert_exporter": "python",
   "pygments_lexer": "ipython3",
   "version": "3.8.2"
  }
 },
 "nbformat": 4,
 "nbformat_minor": 4
}
