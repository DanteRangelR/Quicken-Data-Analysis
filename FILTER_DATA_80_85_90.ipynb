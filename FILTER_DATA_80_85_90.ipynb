{
 "cells": [
  {
   "cell_type": "markdown",
   "metadata": {},
   "source": [
    "## Filter data result matched_names_tf_idf.xlsx"
   ]
  },
  {
   "cell_type": "code",
   "execution_count": 12,
   "metadata": {},
   "outputs": [
    {
     "name": "stderr",
     "output_type": "stream",
     "text": [
      "[nltk_data] Downloading package stopwords to\n",
      "[nltk_data]     /Users/danterangel/nltk_data...\n",
      "[nltk_data]   Package stopwords is already up-to-date!\n"
     ]
    },
    {
     "data": {
      "text/plain": [
       "True"
      ]
     },
     "execution_count": 12,
     "metadata": {},
     "output_type": "execute_result"
    }
   ],
   "source": [
    "import pandas as pd\n",
    "import numpy as np\n",
    "import time\n",
    "import re\n",
    "import nltk\n",
    "from nltk.corpus import stopwords\n",
    "from sklearn.feature_extraction.text import TfidfVectorizer\n",
    "from sklearn.neighbors import NearestNeighbors\n",
    "from fuzzywuzzy import fuzz\n",
    "from fuzzywuzzy import process\n",
    "\n",
    "nltk.download('stopwords')"
   ]
  },
  {
   "cell_type": "code",
   "execution_count": 13,
   "metadata": {},
   "outputs": [],
   "source": [
    "filtered = [ 75, 80, 85, 90 ]\n",
    "#filtered = [90]\n",
    "datasets_groups = {}"
   ]
  },
  {
   "cell_type": "code",
   "execution_count": 14,
   "metadata": {},
   "outputs": [],
   "source": [
    "file_quicken = 'full_data_quicken.xlsx'\n",
    "matched_file = 'matched_names_tf_idf.xlsx'\n",
    "matched_df = pd.read_excel(matched_file)\n",
    "\n",
    "full_dataset = pd.read_excel(file_quicken)\n",
    "dataset = pd.read_excel(file_quicken, usecols=[\"Payable To\"])\n",
    "dataset = pd.DataFrame({'name': dataset['Payable To'].unique()})\n",
    "dataset = dataset\n"
   ]
  },
  {
   "cell_type": "code",
   "execution_count": 15,
   "metadata": {},
   "outputs": [
    {
     "name": "stdout",
     "output_type": "stream",
     "text": [
      "['Credit Card/Un-secured' 'Insurance' 'Property Tax']\n"
     ]
    }
   ],
   "source": [
    "print(full_dataset['Payoff Type'].unique())"
   ]
  },
  {
   "cell_type": "code",
   "execution_count": 16,
   "metadata": {},
   "outputs": [
    {
     "name": "stdout",
     "output_type": "stream",
     "text": [
      "Total dataset 417500\n",
      "Total Names found  19341\n",
      "Percent :  91.62442560045479 %\n"
     ]
    }
   ],
   "source": [
    "nNames = len(matched_df['Quicken name'].unique())\n",
    "print(\"Total dataset\", matched_df.shape[0])\n",
    "print(\"Total Names found \", nNames)\n",
    "print(\"Percent : \", 100 * nNames / dataset.shape[0], '%')"
   ]
  },
  {
   "cell_type": "code",
   "execution_count": 17,
   "metadata": {},
   "outputs": [],
   "source": [
    "matched_df = matched_df.merge(full_dataset, left_on='Quicken name', right_on='Payable To', how='inner')\n",
    "matched_df.drop('Payable To', axis='columns', inplace=True)"
   ]
  },
  {
   "cell_type": "code",
   "execution_count": 18,
   "metadata": {},
   "outputs": [
    {
     "name": "stdout",
     "output_type": "stream",
     "text": [
      "============ Filter dataset ===========\n",
      "Dataset with filter >  75  has been saved\n",
      "Dataset with filter >  80  has been saved\n",
      "Dataset with filter >  85  has been saved\n",
      "Dataset with filter >  90  has been saved\n",
      "============      Done      ===========\n"
     ]
    }
   ],
   "source": [
    "print(\"============ Filter dataset ===========\")\n",
    "for i in filtered:\n",
    "    datasets_groups['matched_m_' + str(i)] = matched_df[matched_df['similarity_token_sort_ratio'] > i]\n",
    "    print('Dataset with filter > ', i, ' has been saved')\n",
    "print(\"============      Done      ===========\")"
   ]
  },
  {
   "cell_type": "code",
   "execution_count": 19,
   "metadata": {},
   "outputs": [],
   "source": [
    "#datasets_groups"
   ]
  },
  {
   "cell_type": "code",
   "execution_count": 21,
   "metadata": {},
   "outputs": [
    {
     "name": "stdout",
     "output_type": "stream",
     "text": [
      "============ Creating dataset matched_m_75===========\n",
      "============       Done matched_m_75     ===========\n",
      "============ Creating dataset matched_m_80===========\n",
      "============       Done matched_m_80     ===========\n",
      "============ Creating dataset matched_m_85===========\n",
      "============       Done matched_m_85     ===========\n",
      "============ Creating dataset matched_m_90===========\n",
      "============       Done matched_m_90     ===========\n"
     ]
    }
   ],
   "source": [
    "for i in datasets_groups:\n",
    "    dataset_i = datasets_groups[i].copy()\n",
    "    data_filtered = pd.DataFrame()\n",
    "    print(\"============ Creating dataset \" + i + \"===========\")\n",
    "    uniques = dataset_i['Quicken name'].unique()\n",
    "    for j in uniques:\n",
    "        data_filtered_group = dataset_i[dataset_i['Quicken name'] == j].sort_values('similarity_token_sort_ratio', ascending=False).head(1)\n",
    "        data_filtered = pd.concat([\n",
    "            data_filtered, data_filtered_group\n",
    "        ])\n",
    "        payoff_type = data_filtered['Payoff Type'].unique()\n",
    "        sheets = {}\n",
    "        for z in payoff_type:\n",
    "            sheet = data_filtered[data_filtered['Payoff Type'] == z].copy()\n",
    "            sheet.drop('Payoff Type', axis='columns', inplace=True)\n",
    "            sheets[z] = sheet\n",
    "    \n",
    "    with pd.ExcelWriter(\"gb_matched_names_tf_idf_\" + i + \".xlsx\") as writer:\n",
    "        for k in payoff_type:\n",
    "            sheets[k].to_excel(writer, sheet_name=k.replace('/', ' '),index=False)\n",
    "    \n",
    "    print(\"============       Done \" + i + \"     ===========\")"
   ]
  },
  {
   "cell_type": "code",
   "execution_count": null,
   "metadata": {},
   "outputs": [],
   "source": []
  }
 ],
 "metadata": {
  "kernelspec": {
   "display_name": "Python 3",
   "language": "python",
   "name": "python3"
  },
  "language_info": {
   "codemirror_mode": {
    "name": "ipython",
    "version": 3
   },
   "file_extension": ".py",
   "mimetype": "text/x-python",
   "name": "python",
   "nbconvert_exporter": "python",
   "pygments_lexer": "ipython3",
   "version": "3.8.2"
  }
 },
 "nbformat": 4,
 "nbformat_minor": 4
}
